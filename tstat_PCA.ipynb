{
 "cells": [
  {
   "cell_type": "code",
   "execution_count": 1,
   "metadata": {},
   "outputs": [],
   "source": [
    "import pandas as pd\n",
    "from datetime import tzinfo, timedelta, datetime\n",
    "import numpy as np\n",
    "import tarfile\n",
    "from io import StringIO\n",
    "from sklearn import preprocessing\n",
    "from sklearn.preprocessing import OneHotEncoder\n",
    "import itertools\n",
    "from collections import Counter\n",
    "import matplotlib.pylab as plt\n",
    "from sklearn.decomposition import PCA\n",
    "from sklearn.preprocessing import MinMaxScaler\n",
    "import operator"
   ]
  },
  {
   "cell_type": "code",
   "execution_count": 2,
   "metadata": {},
   "outputs": [
    {
     "name": "stdout",
     "output_type": "stream",
     "text": [
      "2018-06-15 08:26:23+00:00\n"
     ]
    }
   ],
   "source": [
    "def get_datetime_str(unixtime):\n",
    "    fmt_datetime=datetime.fromtimestamp(float(str(unixtime))).strftime('%Y-%m-%d %H:%M:%S')\n",
    "    fmt_timezone = \"+00:00\"\n",
    "    return fmt_datetime + fmt_timezone\n",
    "\n",
    "print get_datetime_str(1529076383.0)\n"
   ]
  },
  {
   "cell_type": "code",
   "execution_count": 3,
   "metadata": {},
   "outputs": [],
   "source": [
    "node_2o = pd.read_csv(\"/home/users/tleibengood/Documents/2018Poject/data/mine/node_2.csv\")\n",
    "node_5o = pd.read_csv(\"/home/users/tleibengood/Documents/2018Poject/data/mine/node_5.csv\")\n",
    "node_6o = pd.read_csv(\"/home/users/tleibengood/Documents/2018Poject/data/mine/node_6.csv\")\n",
    "node_7o = pd.read_csv(\"/home/users/tleibengood/Documents/2018Poject/data/mine/node_7.csv\")\n",
    "node_8o = pd.read_csv(\"/home/users/tleibengood/Documents/2018Poject/data/mine/node_8.csv\")"
   ]
  },
  {
   "cell_type": "code",
   "execution_count": 4,
   "metadata": {},
   "outputs": [
    {
     "name": "stdout",
     "output_type": "stream",
     "text": [
      "(3952817, 105)\n",
      "(363488, 105)\n",
      "(506512, 105)\n",
      "(480739, 105)\n",
      "(456868, 105)\n"
     ]
    }
   ],
   "source": [
    "print node_2o.shape\n",
    "print node_5o.shape\n",
    "print node_6o.shape\n",
    "print node_7o.shape\n",
    "print node_8o.shape"
   ]
  },
  {
   "cell_type": "code",
   "execution_count": 5,
   "metadata": {},
   "outputs": [
    {
     "data": {
      "text/plain": [
       "5760424"
      ]
     },
     "execution_count": 5,
     "metadata": {},
     "output_type": "execute_result"
    }
   ],
   "source": [
    "3952817+363488+506512+480739+456868"
   ]
  },
  {
   "cell_type": "code",
   "execution_count": 61,
   "metadata": {},
   "outputs": [],
   "source": [
    "c_columns =   ('c_port:2', 'c_pkts_all:3', 'c_rst_cnt:4', 'c_ack_cnt:5', 'c_ack_cnt_p:6', 'c_bytes_uniq:7', 'c_pkts_data:8', \n",
    "               'c_bytes_all:9', 'c_pkts_retx:10', 'c_bytes_retx:11', 'c_pkts_ooo:12', 'c_syn_cnt:13', 'c_fin_cnt:14',\n",
    "               'durat:31', 'con_t:42', 'p2p_t:43', 'c_rtt_avg:45', 'c_rtt_min:46', 'c_rtt_max:47', 'c_rtt_std:48', 'c_rtt_cnt:49', \n",
    "               'c_ttl_min:50', 'c_ttl_max:51', 'c_f1323_opt:59', 'c_tm_opt:60', 'c_win_scl:61', 'c_sack_opt:62', 'c_sack_cnt:63', \n",
    "               'c_mss:64', 'c_mss_max:65', 'c_mss_min:66', 'c_win_max:67', 'c_win_min:68', 'c_win_0:69', 'c_cwin_max:70', \n",
    "               'c_cwin_min:71', 'c_cwin_ini:72', 'c_pkts_rto:73', 'c_pkts_fs:74', 'c_pkts_reor:75', 'c_pkts_dup:76', 'c_pkts_unk:77', \n",
    "               'c_pkts_fc:78', 'c_pkts_unrto:79', 'c_pkts_unfs:80', 'c_syn_retx:81')\n",
    "s_columns =   ('s_port:16', 's_pkts_all:17', 's_rst_cnt:18', 's_ack_cnt:19', 's_ack_cnt_p:20', 's_bytes_uniq:21','s_pkts_data:22', \n",
    "               's_bytes_all:23', 's_pkts_retx:24', 's_bytes_retx:25', 's_pkts_ooo:26','s_syn_cnt:27', 's_fin_cnt:28', \n",
    "               'durat:31', 'con_t:42', 'p2p_t:43', 's_rtt_avg:52', 's_rtt_min:53', 's_rtt_max:54', 's_rtt_std:55', 's_rtt_cnt:56', \n",
    "               's_ttl_min:57', 's_ttl_max:58', 's_f1323_opt:82', 's_tm_opt:83', 's_win_scl:84', 's_sack_opt:85', 's_sack_cnt:86', \n",
    "               's_mss:87', 's_mss_max:88', 's_mss_min:89', 's_win_max:90', 's_win_min:91', 's_win_0:92', 's_cwin_max:93', \n",
    "               's_cwin_min:94', 's_cwin_ini:95', 's_pkts_rto:96', 's_pkts_fs:97', 's_pkts_reor:98', 's_pkts_dup:99', 's_pkts_unk:100', \n",
    "               's_pkts_fc:101', 's_pkts_unrto:102', 's_pkts_unfs:103', 's_syn_retx:104')\n",
    "c_col_irrel = ('#09#c_ip:1', 'c_port:2', 'c_pkts_ooo:12', 'first:29', 'last:30', 'c_first:32', 'c_last:34', 'c_first_ack:36', 'c_isint:38', \n",
    "               'c_iscrypto:40', 'http_t:44', 'c_ttl_min:50', 'c_ttl_max:51', 'c_f1323_opt:59', 'c_tm_opt:60', 'c_win_scl:61', \n",
    "               'c_sack_opt:62', 'c_mss:64', 'c_pkts_fs:74', 'c_pkts_reor:75', 'c_pkts_dup:76', 'c_pkts_unk:77', 'c_pkts_fc:78', \n",
    "               'c_pkts_unfs:80', 'c_syn_retx:81', \n",
    "               's_ip:15', 's_port:16', 's_pkts_all:17', 's_rst_cnt:18', 's_ack_cnt:19', 's_ack_cnt_p:20', 's_bytes_uniq:21', 's_pkts_data:22', \n",
    "               's_bytes_all:23', 's_pkts_retx:24', 's_bytes_retx:25', 's_pkts_ooo:26','s_syn_cnt:27', 's_fin_cnt:28', 's_first:33', \n",
    "               's_last:35', 's_first_ack:37', 's_isint:39', 's_iscrypto:41', 's_rtt_avg:52', 's_rtt_min:53', 's_rtt_max:54', 's_rtt_std:55',\n",
    "               's_rtt_cnt:56', 's_ttl_min:57', 's_ttl_max:58', 's_f1323_opt:82', 's_tm_opt:83', 's_win_scl:84', 's_sack_opt:85', 's_sack_cnt:86', \n",
    "               's_mss:87', 's_mss_max:88', 's_mss_min:89', 's_win_max:90', 's_win_min:91', 's_win_0:92', 's_cwin_max:93', \n",
    "               's_cwin_min:94', 's_cwin_ini:95', 's_pkts_rto:96', 's_pkts_fs:97', 's_pkts_reor:98', 's_pkts_dup:99', 's_pkts_unk:100', \n",
    "               's_pkts_fc:101', 's_pkts_unrto:102', 's_pkts_unfs:103', 's_syn_retx:104', )\n",
    "s_col_irrel = ('s_ip:15', 's_port:16', 'first:29', 'last:30', 's_first:33', 's_last:35', 's_first_ack:37', 's_isint:39', \n",
    "               's_iscrypto:41', 'http_t:44', 's_ttl_min:57', 's_ttl_max:58', 's_f1323_opt:82', 's_tm_opt:83', 's_win_scl:84', \n",
    "               's_sack_opt:85', 's_mss:87', 's_win_min:91', 's_win_0:92', 's_pkts_fc:101', 's_syn_retx:104', \n",
    "               '#09#c_ip:1', 'c_port:2', 'c_pkts_all:3', 'c_rst_cnt:4', 'c_ack_cnt:5', 'c_ack_cnt_p:6', 'c_bytes_uniq:7', 'c_pkts_data:8', \n",
    "               'c_bytes_all:9', 'c_pkts_retx:10', 'c_bytes_retx:11', 'c_pkts_ooo:12', 'c_syn_cnt:13', 'c_fin_cnt:14', 'c_first:32', \n",
    "               'c_last:34', 'c_first_ack:36', 'c_isint:38', 'c_iscrypto:40', 'c_rtt_avg:45', 'c_rtt_min:46', 'c_rtt_max:47', 'c_rtt_std:48', \n",
    "               'c_rtt_cnt:49', 'c_ttl_min:50', 'c_ttl_max:51', 'c_f1323_opt:59', 'c_tm_opt:60', 'c_win_scl:61', 'c_sack_opt:62', 'c_sack_cnt:63', \n",
    "               'c_mss:64', 'c_mss_max:65', 'c_mss_min:66', 'c_win_max:67', 'c_win_min:68', 'c_win_0:69', 'c_cwin_max:70', \n",
    "               'c_cwin_min:71', 'c_cwin_ini:72', 'c_pkts_rto:73', 'c_pkts_fs:74', 'c_pkts_reor:75', 'c_pkts_dup:76', 'c_pkts_unk:77', \n",
    "               'c_pkts_fc:78', 'c_pkts_unrto:79', 'c_pkts_unfs:80', 'c_syn_retx:81')\n",
    "irrel       = ('#09#c_ip:1', 'c_port:2', 'c_pkts_ooo:12', 'first:29', 'last:30', 'c_first:32', 'c_last:34', 'c_first_ack:36', 'c_isint:38', \n",
    "               'c_iscrypto:40', 'http_t:44', 'c_ttl_min:50', 'c_ttl_max:51', 'c_f1323_opt:59', 'c_tm_opt:60', 'c_win_scl:61', \n",
    "               'c_sack_opt:62', 'c_mss:64', 'c_pkts_fs:74', 'c_pkts_reor:75', 'c_pkts_dup:76', 'c_pkts_unk:77', 'c_pkts_fc:78', \n",
    "               'c_pkts_unfs:80', 'c_syn_retx:81', 's_ip:15', 's_port:16', 'first:29', 'last:30', 's_first:33', 's_last:35', 's_first_ack:37', 's_isint:39', \n",
    "               's_iscrypto:41', 'http_t:44', 's_ttl_min:57', 's_ttl_max:58', 's_f1323_opt:82', 's_tm_opt:83', 's_win_scl:84', \n",
    "               's_sack_opt:85', 's_mss:87', 's_win_min:91', 's_win_0:92', 's_pkts_fc:101', 's_syn_retx:104')\n",
    "ports       = ('c_port:2', 's_port:16', '#09#c_ip:1', 's_ip:15', 'first:29', 'last:30', 'c_first:32', 'c_last:34', 'c_first_ack:36', 'c_isint:38', 'c_iscrypto:40', 's_first:33', \n",
    "               's_last:35', 's_first_ack:37', 's_isint:39', 's_iscrypto:41', 'http_t:44')\n",
    "non_sca     = ('#09#c_ip:1', 's_ip:15', 'first:29', 'last:30', 'c_first:32', 'c_last:34', 'c_first_ack:36', 'c_isint:38', 'c_iscrypto:40', 's_first:33', \n",
    "               's_last:35', 's_first_ack:37', 's_isint:39', 's_iscrypto:41', 'http_t:44')\n",
    "Mariam      = ['c_rtt_avg:45', 's_rtt_avg:52','c_mss_max:65','c_mss_min:66','c_win_max:67','c_win_min:68','c_win_0:69',\n",
    "               'c_cwin_max:70','c_cwin_min:71','c_cwin_ini:72','c_pkts_rto:73','c_pkts_fs:74','c_pkts_reor:75','c_pkts_dup:76',\n",
    "               's_mss_max:88','s_mss_min:89','s_win_max:90','s_win_min:91','s_win_0:92','s_cwin_max:93','s_cwin_min:94',\n",
    "               's_cwin_ini:95','s_pkts_rto:96','s_pkts_fs:97','s_pkts_reor:98','s_pkts_dup:99']\n",
    "Mariam_c    = ['c_rtt_avg:45','c_mss_max:65','c_mss_min:66','c_win_max:67','c_win_min:68','c_win_0:69','c_cwin_max:70',\n",
    "               'c_cwin_min:71','c_cwin_ini:72','c_pkts_rto:73','c_pkts_fs:74','c_pkts_reor:75','c_pkts_dup:76',]\n",
    "Mariam_s    = ['s_rtt_avg:52','s_mss_max:88','s_mss_min:89','s_win_max:90','s_win_min:91','s_win_0:92','s_cwin_max:93',\n",
    "               's_cwin_min:94','s_cwin_ini:95','s_pkts_rto:96','s_pkts_fs:97','s_pkts_reor:98','s_pkts_dup:99']"
   ]
  },
  {
   "cell_type": "code",
   "execution_count": 62,
   "metadata": {},
   "outputs": [],
   "source": [
    "node_2o = node_2o[(node_2o['first:29'] > 1493596800000.0) &\n",
    "                  (node_2o['first:29'] < 1497139200000.0)]\n",
    "node_5o = node_5o[(node_5o['first:29'] > 1493596800000.0) &\n",
    "                  (node_5o['first:29'] < 1497139200000.0)]\n",
    "node_6o = node_6o[(node_6o['first:29'] > 1493596800000.0) &\n",
    "                  (node_6o['first:29'] < 1497139200000.0)]\n",
    "node_7o = node_7o[(node_7o['first:29'] > 1493596800000.0) &\n",
    "                  (node_7o['first:29'] < 1497139200000.0)]\n",
    "node_8o = node_8o[(node_8o['first:29'] > 1493596800000.0) &\n",
    "                  (node_8o['first:29'] < 1497139200000.0)]"
   ]
  },
  {
   "cell_type": "code",
   "execution_count": 63,
   "metadata": {},
   "outputs": [],
   "source": [
    "c_node_2 = node_2o[list(c_columns)]\n",
    "s_node_2 = node_2o[list(s_columns)]\n",
    "c_node_5 = node_5o[list(c_columns)]\n",
    "s_node_5 = node_5o[list(s_columns)]\n",
    "c_node_6 = node_6o[list(c_columns)]\n",
    "s_node_6 = node_6o[list(s_columns)]\n",
    "c_node_7 = node_7o[list(c_columns)]\n",
    "s_node_7 = node_7o[list(s_columns)]\n",
    "c_node_8 = node_8o[list(c_columns)]\n",
    "s_node_8 = node_8o[list(s_columns)]\n",
    "\n",
    "c_node_2_rel = node_2o.drop(columns = list(c_col_irrel))\n",
    "s_node_2_rel = node_2o.drop(columns = list(s_col_irrel))\n",
    "c_node_5_rel = node_5o.drop(columns = list(c_col_irrel))\n",
    "s_node_5_rel = node_5o.drop(columns = list(s_col_irrel))\n",
    "c_node_6_rel = node_6o.drop(columns = list(c_col_irrel))\n",
    "s_node_6_rel = node_6o.drop(columns = list(s_col_irrel))\n",
    "c_node_7_rel = node_7o.drop(columns = list(c_col_irrel))\n",
    "s_node_7_rel = node_7o.drop(columns = list(s_col_irrel))\n",
    "c_node_8_rel = node_8o.drop(columns = list(c_col_irrel))\n",
    "s_node_8_rel = node_8o.drop(columns = list(s_col_irrel))\n",
    "\n",
    "node_2 = node_2o.drop(columns = list(non_sca))\n",
    "node_5 = node_5o.drop(columns = list(non_sca))\n",
    "node_6 = node_6o.drop(columns = list(non_sca))\n",
    "node_7 = node_7o.drop(columns = list(non_sca))\n",
    "node_8 = node_8o.drop(columns = list(non_sca))\n",
    "\n",
    "node_2_rel = node_2o.drop(columns = list(irrel))\n",
    "node_5_rel = node_5o.drop(columns = list(irrel))\n",
    "node_6_rel = node_6o.drop(columns = list(irrel))\n",
    "node_7_rel = node_7o.drop(columns = list(irrel))\n",
    "node_8_rel = node_8o.drop(columns = list(irrel))\n",
    "\n",
    "no_ports_2 = node_2o.drop(columns = list(ports))\n",
    "no_ports_5 = node_5o.drop(columns = list(ports))\n",
    "no_ports_6 = node_6o.drop(columns = list(ports))\n",
    "no_ports_7 = node_7o.drop(columns = list(ports))\n",
    "no_ports_8 = node_8o.drop(columns = list(ports))\n",
    "\n",
    "Mariam_2 = node_2o[Mariam]\n",
    "Mariam_5 = node_5o[Mariam]\n",
    "Mariam_6 = node_6o[Mariam]\n",
    "Mariam_7 = node_7o[Mariam]\n",
    "Mariam_8 = node_8o[Mariam]\n",
    "\n",
    "Mariam_s_2 = node_2o[Mariam_s]\n",
    "Mariam_s_5 = node_5o[Mariam_s]\n",
    "Mariam_s_6 = node_6o[Mariam_s]\n",
    "Mariam_s_7 = node_7o[Mariam_s]\n",
    "Mariam_s_8 = node_8o[Mariam_s]\n",
    "\n",
    "Mariam_c_2 = node_2o[Mariam_c]\n",
    "Mariam_c_5 = node_5o[Mariam_c]\n",
    "Mariam_c_6 = node_6o[Mariam_c]\n",
    "Mariam_c_7 = node_7o[Mariam_c]\n",
    "Mariam_c_8 = node_8o[Mariam_c]"
   ]
  },
  {
   "cell_type": "code",
   "execution_count": 64,
   "metadata": {},
   "outputs": [],
   "source": [
    "c_node_2_rel = c_node_2_rel.drop(columns = c_node_2_rel.columns.values[0])\n",
    "s_node_2_rel = s_node_2_rel.drop(columns = s_node_2_rel.columns.values[0])\n",
    "c_node_5_rel = c_node_5_rel.drop(columns = c_node_5_rel.columns.values[0])\n",
    "s_node_5_rel = s_node_5_rel.drop(columns = s_node_5_rel.columns.values[0])\n",
    "c_node_6_rel = c_node_6_rel.drop(columns = c_node_6_rel.columns.values[0])\n",
    "s_node_6_rel = s_node_6_rel.drop(columns = s_node_6_rel.columns.values[0])\n",
    "c_node_7_rel = c_node_7_rel.drop(columns = c_node_7_rel.columns.values[0])\n",
    "s_node_7_rel = s_node_7_rel.drop(columns = s_node_7_rel.columns.values[0])\n",
    "c_node_8_rel = c_node_8_rel.drop(columns = c_node_8_rel.columns.values[0])\n",
    "s_node_8_rel = s_node_8_rel.drop(columns = s_node_8_rel.columns.values[0])\n",
    "\n",
    "node_2 = node_2.drop(columns = node_2.columns.values[0])\n",
    "node_5 = node_5.drop(columns = node_5.columns.values[0])\n",
    "node_6 = node_6.drop(columns = node_6.columns.values[0])\n",
    "node_7 = node_7.drop(columns = node_7.columns.values[0])\n",
    "node_8 = node_8.drop(columns = node_8.columns.values[0])\n",
    "\n",
    "node_2_rel = node_2_rel.drop(columns = node_2_rel.columns.values[0])\n",
    "node_5_rel = node_5_rel.drop(columns = node_5_rel.columns.values[0])\n",
    "node_6_rel = node_6_rel.drop(columns = node_6_rel.columns.values[0])\n",
    "node_7_rel = node_7_rel.drop(columns = node_7_rel.columns.values[0])\n",
    "node_8_rel = node_8_rel.drop(columns = node_8_rel.columns.values[0])\n",
    "\n",
    "no_ports_2 = no_ports_2.drop(columns = no_ports_2.columns.values[0])\n",
    "no_ports_5 = no_ports_5.drop(columns = no_ports_5.columns.values[0])\n",
    "no_ports_6 = no_ports_6.drop(columns = no_ports_6.columns.values[0])\n",
    "no_ports_7 = no_ports_7.drop(columns = no_ports_7.columns.values[0])\n",
    "no_ports_8 = no_ports_8.drop(columns = no_ports_8.columns.values[0])"
   ]
  },
  {
   "cell_type": "code",
   "execution_count": 65,
   "metadata": {},
   "outputs": [],
   "source": [
    "Fc_node_2 = list(c_node_2.columns.values)\n",
    "Fs_node_2 = list(s_node_2.columns.values)\n",
    "Fc_node_5 = list(c_node_5.columns.values)\n",
    "Fs_node_5 = list(s_node_5.columns.values)\n",
    "Fc_node_6 = list(c_node_6.columns.values)\n",
    "Fs_node_6 = list(s_node_6.columns.values)\n",
    "Fc_node_7 = list(c_node_7.columns.values)\n",
    "Fs_node_7 = list(s_node_7.columns.values)\n",
    "Fc_node_8 = list(c_node_8.columns.values)\n",
    "Fs_node_8 = list(s_node_8.columns.values)\n",
    "\n",
    "Fc_node_2_rel = list(c_node_2_rel.columns.values)\n",
    "Fs_node_2_rel = list(s_node_2_rel.columns.values)\n",
    "Fc_node_5_rel = list(c_node_5_rel.columns.values)\n",
    "Fs_node_5_rel = list(s_node_5_rel.columns.values)\n",
    "Fc_node_6_rel = list(c_node_6_rel.columns.values)\n",
    "Fs_node_6_rel = list(s_node_6_rel.columns.values)\n",
    "Fc_node_7_rel = list(c_node_7_rel.columns.values)\n",
    "Fs_node_7_rel = list(s_node_7_rel.columns.values)\n",
    "Fc_node_8_rel = list(c_node_8_rel.columns.values)\n",
    "Fs_node_8_rel = list(s_node_8_rel.columns.values)\n",
    "\n",
    "Fnode_2 = list(node_2.columns.values)\n",
    "Fnode_5 = list(node_5.columns.values)\n",
    "Fnode_6 = list(node_6.columns.values)\n",
    "Fnode_7 = list(node_7.columns.values)\n",
    "Fnode_8 = list(node_8.columns.values)\n",
    "\n",
    "Fnode_2_rel = list(node_2_rel.columns.values)\n",
    "Fnode_5_rel = list(node_5_rel.columns.values)\n",
    "Fnode_6_rel = list(node_6_rel.columns.values)\n",
    "Fnode_7_rel = list(node_7_rel.columns.values)\n",
    "Fnode_8_rel = list(node_8_rel.columns.values)\n",
    "\n",
    "Fno_ports_2 = list(no_ports_2.columns.values)\n",
    "Fno_ports_5 = list(no_ports_5.columns.values)\n",
    "Fno_ports_6 = list(no_ports_6.columns.values)\n",
    "Fno_ports_7 = list(no_ports_7.columns.values)\n",
    "Fno_ports_8 = list(no_ports_8.columns.values)\n",
    "\n",
    "FMariam_2 = list(Mariam_2.columns.values)\n",
    "FMariam_5 = list(Mariam_5.columns.values)\n",
    "FMariam_6 = list(Mariam_6.columns.values)\n",
    "FMariam_7 = list(Mariam_7.columns.values)\n",
    "FMariam_8 = list(Mariam_8.columns.values)\n",
    "\n",
    "FMariam_s_2 = list(Mariam_s_2.columns.values)\n",
    "FMariam_s_5 = list(Mariam_s_5.columns.values)\n",
    "FMariam_s_6 = list(Mariam_s_6.columns.values)\n",
    "FMariam_s_7 = list(Mariam_s_7.columns.values)\n",
    "FMariam_s_8 = list(Mariam_s_8.columns.values)\n",
    "\n",
    "FMariam_c_2 = list(Mariam_c_2.columns.values)\n",
    "FMariam_c_5 = list(Mariam_c_5.columns.values)\n",
    "FMariam_c_6 = list(Mariam_c_6.columns.values)\n",
    "FMariam_c_7 = list(Mariam_c_7.columns.values)\n",
    "FMariam_c_8 = list(Mariam_c_8.columns.values)"
   ]
  },
  {
   "cell_type": "code",
   "execution_count": 66,
   "metadata": {},
   "outputs": [
    {
     "name": "stdout",
     "output_type": "stream",
     "text": [
      "c_port:2\n",
      "s_port:16\n",
      "c_port:2\n",
      "s_port:16\n",
      "c_port:2\n",
      "s_port:16\n",
      "c_port:2\n",
      "s_port:16\n",
      "c_port:2\n",
      "s_port:16\n",
      "\n",
      "c_pkts_all:3\n",
      "s_pkts_all:17\n",
      "c_pkts_all:3\n",
      "s_pkts_all:17\n",
      "c_pkts_all:3\n",
      "s_pkts_all:17\n",
      "c_pkts_all:3\n",
      "s_pkts_all:17\n",
      "c_pkts_all:3\n",
      "s_pkts_all:17\n",
      "\n",
      "c_port:2\n",
      "c_port:2\n",
      "c_port:2\n",
      "c_port:2\n",
      "c_port:2\n",
      "\n",
      "c_pkts_all:3\n",
      "c_pkts_all:3\n",
      "c_pkts_all:3\n",
      "c_pkts_all:3\n",
      "c_pkts_all:3\n",
      "\n",
      "c_pkts_all:3\n",
      "c_pkts_all:3\n",
      "c_pkts_all:3\n",
      "c_pkts_all:3\n",
      "c_pkts_all:3\n"
     ]
    }
   ],
   "source": [
    "print Fc_node_2[0]\n",
    "print Fs_node_2[0]\n",
    "print Fc_node_5[0]\n",
    "print Fs_node_5[0]\n",
    "print Fc_node_6[0]\n",
    "print Fs_node_6[0]\n",
    "print Fc_node_7[0]\n",
    "print Fs_node_7[0]\n",
    "print Fc_node_8[0]\n",
    "print Fs_node_8[0]\n",
    "print \n",
    "print Fc_node_2_rel[0]\n",
    "print Fs_node_2_rel[0]\n",
    "print Fc_node_5_rel[0]\n",
    "print Fs_node_5_rel[0]\n",
    "print Fc_node_6_rel[0]\n",
    "print Fs_node_6_rel[0]\n",
    "print Fc_node_7_rel[0]\n",
    "print Fs_node_7_rel[0]\n",
    "print Fc_node_8_rel[0]\n",
    "print Fs_node_8_rel[0]\n",
    "print \n",
    "print Fnode_2[0]\n",
    "print Fnode_5[0]\n",
    "print Fnode_6[0]\n",
    "print Fnode_7[0]\n",
    "print Fnode_8[0]\n",
    "print \n",
    "print Fnode_2_rel[0]\n",
    "print Fnode_5_rel[0]\n",
    "print Fnode_6_rel[0]\n",
    "print Fnode_7_rel[0]\n",
    "print Fnode_8_rel[0]\n",
    "print\n",
    "print Fno_ports_2[0]\n",
    "print Fno_ports_5[0]\n",
    "print Fno_ports_6[0]\n",
    "print Fno_ports_7[0]\n",
    "print Fno_ports_8[0]"
   ]
  },
  {
   "cell_type": "code",
   "execution_count": 67,
   "metadata": {},
   "outputs": [
    {
     "name": "stdout",
     "output_type": "stream",
     "text": [
      "(738460, 46)\n",
      "(222125, 46)\n",
      "(335671, 46)\n",
      "(271495, 46)\n",
      "(312302, 46)\n",
      "\n",
      "(738460, 30)\n",
      "(222125, 30)\n",
      "(335671, 30)\n",
      "(271495, 30)\n",
      "(312302, 30)\n",
      "\n",
      "(738460, 46)\n",
      "(222125, 46)\n",
      "(335671, 46)\n",
      "(271495, 46)\n",
      "(312302, 46)\n",
      "\n",
      "(738460, 34)\n",
      "(222125, 34)\n",
      "(335671, 34)\n",
      "(271495, 34)\n",
      "(312302, 34)\n"
     ]
    }
   ],
   "source": [
    "print c_node_2.shape\n",
    "print c_node_5.shape\n",
    "print c_node_6.shape\n",
    "print c_node_7.shape\n",
    "print c_node_8.shape\n",
    "print\n",
    "print c_node_2_rel.shape\n",
    "print c_node_5_rel.shape\n",
    "print c_node_6_rel.shape\n",
    "print c_node_7_rel.shape\n",
    "print c_node_8_rel.shape\n",
    "print\n",
    "print s_node_2.shape\n",
    "print s_node_5.shape\n",
    "print s_node_6.shape\n",
    "print s_node_7.shape\n",
    "print s_node_8.shape\n",
    "print\n",
    "print s_node_2_rel.shape\n",
    "print s_node_5_rel.shape\n",
    "print s_node_6_rel.shape\n",
    "print s_node_7_rel.shape\n",
    "print s_node_8_rel.shape"
   ]
  },
  {
   "cell_type": "code",
   "execution_count": 68,
   "metadata": {},
   "outputs": [],
   "source": [
    "node_2 = pd.DataFrame(MinMaxScaler().fit_transform(node_2))\n",
    "node_5 = pd.DataFrame(MinMaxScaler().fit_transform(node_5))\n",
    "node_6 = pd.DataFrame(MinMaxScaler().fit_transform(node_6))\n",
    "node_7 = pd.DataFrame(MinMaxScaler().fit_transform(node_7))\n",
    "node_8 = pd.DataFrame(MinMaxScaler().fit_transform(node_8))\n",
    "\n",
    "node_2_rel = pd.DataFrame(MinMaxScaler().fit_transform(node_2_rel))\n",
    "node_5_rel = pd.DataFrame(MinMaxScaler().fit_transform(node_5_rel))\n",
    "node_6_rel = pd.DataFrame(MinMaxScaler().fit_transform(node_6_rel))\n",
    "node_7_rel = pd.DataFrame(MinMaxScaler().fit_transform(node_7_rel))\n",
    "node_8_rel = pd.DataFrame(MinMaxScaler().fit_transform(node_8_rel))\n",
    "\n",
    "c_node_2_rel = pd.DataFrame(MinMaxScaler().fit_transform(c_node_2_rel))\n",
    "s_node_2_rel = pd.DataFrame(MinMaxScaler().fit_transform(c_node_2_rel))\n",
    "c_node_5_rel = pd.DataFrame(MinMaxScaler().fit_transform(c_node_5_rel))\n",
    "s_node_5_rel = pd.DataFrame(MinMaxScaler().fit_transform(c_node_5_rel))\n",
    "c_node_6_rel = pd.DataFrame(MinMaxScaler().fit_transform(c_node_6_rel))\n",
    "s_node_6_rel = pd.DataFrame(MinMaxScaler().fit_transform(c_node_6_rel))\n",
    "c_node_7_rel = pd.DataFrame(MinMaxScaler().fit_transform(c_node_7_rel))\n",
    "s_node_7_rel = pd.DataFrame(MinMaxScaler().fit_transform(c_node_7_rel))\n",
    "c_node_8_rel = pd.DataFrame(MinMaxScaler().fit_transform(c_node_8_rel))\n",
    "s_node_8_rel = pd.DataFrame(MinMaxScaler().fit_transform(c_node_8_rel))\n",
    "\n",
    "c_node_2 = pd.DataFrame(MinMaxScaler().fit_transform(c_node_2))\n",
    "c_node_5 = pd.DataFrame(MinMaxScaler().fit_transform(c_node_5))\n",
    "c_node_6 = pd.DataFrame(MinMaxScaler().fit_transform(c_node_6))\n",
    "c_node_7 = pd.DataFrame(MinMaxScaler().fit_transform(c_node_7))\n",
    "c_node_8 = pd.DataFrame(MinMaxScaler().fit_transform(c_node_8))\n",
    "s_node_2 = pd.DataFrame(MinMaxScaler().fit_transform(s_node_2))\n",
    "s_node_5 = pd.DataFrame(MinMaxScaler().fit_transform(s_node_5))\n",
    "s_node_6 = pd.DataFrame(MinMaxScaler().fit_transform(s_node_6))\n",
    "s_node_7 = pd.DataFrame(MinMaxScaler().fit_transform(s_node_7))\n",
    "s_node_8 = pd.DataFrame(MinMaxScaler().fit_transform(s_node_8))\n",
    "\n",
    "no_ports_2 = pd.DataFrame(MinMaxScaler().fit_transform(no_ports_2))\n",
    "no_ports_5 = pd.DataFrame(MinMaxScaler().fit_transform(no_ports_5))\n",
    "no_ports_6 = pd.DataFrame(MinMaxScaler().fit_transform(no_ports_6))\n",
    "no_ports_7 = pd.DataFrame(MinMaxScaler().fit_transform(no_ports_7))\n",
    "no_ports_8 = pd.DataFrame(MinMaxScaler().fit_transform(no_ports_8))\n",
    "\n",
    "Mariam_2 = pd.DataFrame(MinMaxScaler().fit_transform(Mariam_2))\n",
    "Mariam_5 = pd.DataFrame(MinMaxScaler().fit_transform(Mariam_5))\n",
    "Mariam_6 = pd.DataFrame(MinMaxScaler().fit_transform(Mariam_6))\n",
    "Mariam_7 = pd.DataFrame(MinMaxScaler().fit_transform(Mariam_7))\n",
    "Mariam_8 = pd.DataFrame(MinMaxScaler().fit_transform(Mariam_8))\n",
    "\n",
    "Mariam_s_2 = pd.DataFrame(MinMaxScaler().fit_transform(Mariam_s_2))\n",
    "Mariam_s_5 = pd.DataFrame(MinMaxScaler().fit_transform(Mariam_s_5))\n",
    "Mariam_s_6 = pd.DataFrame(MinMaxScaler().fit_transform(Mariam_s_6))\n",
    "Mariam_s_7 = pd.DataFrame(MinMaxScaler().fit_transform(Mariam_s_7))\n",
    "Mariam_s_8 = pd.DataFrame(MinMaxScaler().fit_transform(Mariam_s_8))\n",
    "\n",
    "Mariam_c_2 = pd.DataFrame(MinMaxScaler().fit_transform(Mariam_c_2))\n",
    "Mariam_c_5 = pd.DataFrame(MinMaxScaler().fit_transform(Mariam_c_5))\n",
    "Mariam_c_6 = pd.DataFrame(MinMaxScaler().fit_transform(Mariam_c_6))\n",
    "Mariam_c_7 = pd.DataFrame(MinMaxScaler().fit_transform(Mariam_c_7))\n",
    "Mariam_c_8 = pd.DataFrame(MinMaxScaler().fit_transform(Mariam_c_8))"
   ]
  },
  {
   "cell_type": "code",
   "execution_count": 113,
   "metadata": {},
   "outputs": [],
   "source": [
    "def sub_comp(X, y):\n",
    "    pca = PCA(n_components=1)\n",
    "    pca.fit(X)\n",
    "    print pca.explained_variance_ratio_\n",
    "    comp_01 = abs(pca.components_[0])\n",
    "    return sorted(zip(comp_01, y), reverse=True)[:2]"
   ]
  },
  {
   "cell_type": "code",
   "execution_count": 26,
   "metadata": {},
   "outputs": [
    {
     "name": "stdout",
     "output_type": "stream",
     "text": [
      "[0.38144163]\n",
      "[0.4620557]\n",
      "[0.40543341]\n",
      "[0.47383956]\n",
      "[0.40435692]\n"
     ]
    }
   ],
   "source": [
    "sc_node_2 = sub_comp(node_2, Fnode_2)\n",
    "sc_node_5 = sub_comp(node_5, Fnode_5)\n",
    "sc_node_6 = sub_comp(node_6, Fnode_6)\n",
    "sc_node_7 = sub_comp(node_7, Fnode_7)\n",
    "sc_node_8 = sub_comp(node_8, Fnode_8)"
   ]
  },
  {
   "cell_type": "code",
   "execution_count": 27,
   "metadata": {},
   "outputs": [
    {
     "name": "stdout",
     "output_type": "stream",
     "text": [
      "[0.38567554]\n",
      "[0.42661641]\n",
      "[0.44194138]\n",
      "[0.49267943]\n",
      "[0.42438929]\n"
     ]
    }
   ],
   "source": [
    "sc_node_2_rel = sub_comp(node_2_rel, Fnode_2_rel)\n",
    "sc_node_5_rel = sub_comp(node_5_rel, Fnode_5_rel)\n",
    "sc_node_6_rel = sub_comp(node_6_rel, Fnode_6_rel)\n",
    "sc_node_7_rel = sub_comp(node_7_rel, Fnode_7_rel)\n",
    "sc_node_8_rel = sub_comp(node_8_rel, Fnode_8_rel)"
   ]
  },
  {
   "cell_type": "code",
   "execution_count": 28,
   "metadata": {},
   "outputs": [
    {
     "name": "stdout",
     "output_type": "stream",
     "text": [
      "[0.42294503]\n",
      "[0.58835441]\n",
      "[0.51726183]\n",
      "[0.58535512]\n",
      "[0.51857321]\n",
      "[0.50276637]\n",
      "[0.54704954]\n",
      "[0.52857755]\n",
      "[0.57032967]\n",
      "[0.56430349]\n"
     ]
    }
   ],
   "source": [
    "sc_c_node_2 = sub_comp(c_node_2, Fc_node_2)\n",
    "sc_c_node_5 = sub_comp(c_node_5, Fc_node_5)\n",
    "sc_c_node_6 = sub_comp(c_node_6, Fc_node_6)\n",
    "sc_c_node_7 = sub_comp(c_node_7, Fc_node_7)\n",
    "sc_c_node_8 = sub_comp(c_node_8, Fc_node_8)\n",
    "\n",
    "sc_s_node_2 = sub_comp(s_node_2, Fs_node_2)\n",
    "sc_s_node_5 = sub_comp(s_node_5, Fs_node_5)\n",
    "sc_s_node_6 = sub_comp(s_node_6, Fs_node_6)\n",
    "sc_s_node_7 = sub_comp(s_node_7, Fs_node_7)\n",
    "sc_s_node_8 = sub_comp(s_node_8, Fs_node_8)"
   ]
  },
  {
   "cell_type": "code",
   "execution_count": 29,
   "metadata": {},
   "outputs": [
    {
     "name": "stdout",
     "output_type": "stream",
     "text": [
      "[0.5389457]\n",
      "[0.59421761]\n",
      "[0.69334001]\n",
      "[0.688436]\n",
      "[0.57495725]\n",
      "[0.5389457]\n",
      "[0.59421761]\n",
      "[0.69334001]\n",
      "[0.688436]\n",
      "[0.57495725]\n"
     ]
    }
   ],
   "source": [
    "sc_c_node_2_rel = sub_comp(c_node_2_rel, Fc_node_2_rel)\n",
    "sc_c_node_5_rel = sub_comp(c_node_5_rel, Fc_node_5_rel)\n",
    "sc_c_node_6_rel = sub_comp(c_node_6_rel, Fc_node_6_rel)\n",
    "sc_c_node_7_rel = sub_comp(c_node_7_rel, Fc_node_7_rel)\n",
    "sc_c_node_8_rel = sub_comp(c_node_8_rel, Fc_node_8_rel)\n",
    "\n",
    "sc_s_node_2_rel = sub_comp(s_node_2_rel, Fs_node_2_rel)\n",
    "sc_s_node_5_rel = sub_comp(s_node_5_rel, Fs_node_5_rel)\n",
    "sc_s_node_6_rel = sub_comp(s_node_6_rel, Fs_node_6_rel)\n",
    "sc_s_node_7_rel = sub_comp(s_node_7_rel, Fs_node_7_rel)\n",
    "sc_s_node_8_rel = sub_comp(s_node_8_rel, Fs_node_8_rel)"
   ]
  },
  {
   "cell_type": "code",
   "execution_count": 30,
   "metadata": {},
   "outputs": [
    {
     "name": "stdout",
     "output_type": "stream",
     "text": [
      "[0.43949972]\n",
      "[0.40003462]\n",
      "[0.33382552]\n",
      "[0.38972407]\n",
      "[0.3472257]\n"
     ]
    }
   ],
   "source": [
    "sc_no_ports_2 = sub_comp(no_ports_2, Fno_ports_2)\n",
    "sc_no_ports_5 = sub_comp(no_ports_5, Fno_ports_5)\n",
    "sc_no_ports_6 = sub_comp(no_ports_6, Fno_ports_6)\n",
    "sc_no_ports_7 = sub_comp(no_ports_7, Fno_ports_7)\n",
    "sc_no_ports_8 = sub_comp(no_ports_8, Fno_ports_8)"
   ]
  },
  {
   "cell_type": "code",
   "execution_count": 114,
   "metadata": {},
   "outputs": [
    {
     "name": "stdout",
     "output_type": "stream",
     "text": [
      "[0.5938505]\n",
      "[0.61974393]\n",
      "[0.55365022]\n",
      "[0.67138688]\n",
      "[0.60897001]\n",
      "[0.46913367]\n",
      "[0.40186505]\n",
      "[0.40999206]\n",
      "[0.48218905]\n",
      "[0.42268554]\n",
      "[0.80772191]\n",
      "[0.86906748]\n",
      "[0.88889371]\n",
      "[0.90553934]\n",
      "[0.86135087]\n"
     ]
    }
   ],
   "source": [
    "sc_Mariam_2 = sub_comp(Mariam_2, FMariam_2)\n",
    "sc_Mariam_5 = sub_comp(Mariam_5, FMariam_5)\n",
    "sc_Mariam_6 = sub_comp(Mariam_6, FMariam_6)\n",
    "sc_Mariam_7 = sub_comp(Mariam_7, FMariam_7)\n",
    "sc_Mariam_8 = sub_comp(Mariam_8, FMariam_8)\n",
    "\n",
    "sc_Mariam_s_2 = sub_comp(Mariam_s_2, FMariam_s_2)\n",
    "sc_Mariam_s_5 = sub_comp(Mariam_s_5, FMariam_s_5)\n",
    "sc_Mariam_s_6 = sub_comp(Mariam_s_6, FMariam_s_6)\n",
    "sc_Mariam_s_7 = sub_comp(Mariam_s_7, FMariam_s_7)\n",
    "sc_Mariam_s_8 = sub_comp(Mariam_s_8, FMariam_s_8)\n",
    "\n",
    "sc_Mariam_c_2 = sub_comp(Mariam_c_2, FMariam_c_2)\n",
    "sc_Mariam_c_5 = sub_comp(Mariam_c_5, FMariam_c_5)\n",
    "sc_Mariam_c_6 = sub_comp(Mariam_c_6, FMariam_c_6)\n",
    "sc_Mariam_c_7 = sub_comp(Mariam_c_7, FMariam_c_7)\n",
    "sc_Mariam_c_8 = sub_comp(Mariam_c_8, FMariam_c_8)"
   ]
  },
  {
   "cell_type": "code",
   "execution_count": 79,
   "metadata": {},
   "outputs": [
    {
     "name": "stdout",
     "output_type": "stream",
     "text": [
      "[(0.7691146747481162, 's_mss:87'), (0.374691145629104, 'c_mss_max:65'), (0.2979219482729609, 'c_mss:64')]\n",
      "[(0.7882108561035659, 'c_mss:64'), (0.4591800309395497, 'c_mss_max:65'), (0.3315474805335333, 'c_win_scl:61')]\n",
      "[(0.8687466130309505, 's_mss:87'), (0.3231635400206383, 's_port:16'), (0.2539491180753881, 's_win_scl:84')]\n",
      "[(0.9527854926509581, 'c_mss_max:65'), (0.19424552105368786, 'con_t:42'), (0.14681277549029073, 'c_cwin_max:70')]\n",
      "[(0.9527854926509578, 's_sack_cnt:86'), (0.19424552105368786, 'durat:31'), (0.14681277549029068, 's_cwin_min:94')]\n",
      "[(0.795304005002492, 's_mss:87'), (0.37370415025978587, 'c_mss:64'), (0.3257414648963244, 'c_mss_max:65')]\n"
     ]
    }
   ],
   "source": [
    "print sc_node_2\n",
    "print sc_c_node_2\n",
    "print sc_s_node_2\n",
    "print sc_c_node_2_rel\n",
    "print sc_s_node_2_rel\n",
    "print sc_no_ports_2"
   ]
  },
  {
   "cell_type": "code",
   "execution_count": 115,
   "metadata": {},
   "outputs": [],
   "source": [
    "sc         = sc_node_2 + sc_node_5 + sc_node_6 + sc_node_7 + sc_node_8\n",
    "sc_c       = sc_c_node_2 + sc_c_node_5 + sc_c_node_6 + sc_c_node_7 + sc_c_node_8\n",
    "sc_s       = sc_s_node_2 + sc_s_node_5 + sc_s_node_6 + sc_s_node_7 + sc_s_node_8 \n",
    "sc_rel     = sc_node_2_rel + sc_node_5_rel + sc_node_6_rel + sc_node_7_rel + sc_node_8_rel\n",
    "sc_c_rel   = sc_c_node_2_rel + sc_c_node_5_rel + sc_c_node_6_rel + sc_c_node_7_rel + sc_c_node_8_rel\n",
    "sc_s_rel   = sc_s_node_2_rel + sc_s_node_5_rel + sc_s_node_6_rel + sc_s_node_7_rel + sc_s_node_8_rel\n",
    "sc_no_port = sc_no_ports_2 + sc_no_ports_5 + sc_no_ports_6 + sc_no_ports_7 + sc_no_ports_8\n",
    "sc_Mariam     = sc_Mariam_2 + sc_Mariam_5 + sc_Mariam_6 + sc_Mariam_7 + sc_Mariam_8\n",
    "sc_Mariam_s   = sc_Mariam_s_2 + sc_Mariam_s_5 + sc_Mariam_s_6 + sc_Mariam_s_7 + sc_Mariam_s_8\n",
    "sc_Mariam_c   = sc_Mariam_c_2 + sc_Mariam_c_5 + sc_Mariam_c_6 + sc_Mariam_c_7 + sc_Mariam_c_8"
   ]
  },
  {
   "cell_type": "code",
   "execution_count": 72,
   "metadata": {},
   "outputs": [],
   "source": [
    "def dom_sc(X) :\n",
    "    lis = zip(*X)[1]\n",
    "    counts = Counter(lis).items()\n",
    "    counts.sort(key=operator.itemgetter(1), reverse = True)\n",
    "    return counts[:10]"
   ]
  },
  {
   "cell_type": "code",
   "execution_count": 91,
   "metadata": {},
   "outputs": [
    {
     "name": "stdout",
     "output_type": "stream",
     "text": [
      "[(0.7691146747481001, 's_mss:87'), (0.3746911456290443, 'c_mss_max:65'), (0.297921948272904, 'c_mss:64'), (0.25504205580128314, 's_port:16'), (0.6379660020394812, 's_port:16'), (0.48993815838364474, 'c_mss:64'), (0.43989370861839394, 'c_mss_max:65'), (0.24682843443064031, 'c_win_scl:61'), (0.6271253745529493, 's_port:16'), (0.5512544905215495, 'c_mss_max:65'), (0.23487906719054752, 's_mss:87'), (0.23289408055740948, 'c_mss:64'), (0.6234310589981042, 's_port:16'), (0.5268639547808627, 'c_mss_max:65'), (0.3829382570148829, 'c_mss:64'), (0.20414577833554068, 's_mss:87'), (0.7071600675461047, 's_port:16'), (0.39890710934694834, 'c_mss_max:65'), (0.3583195665163158, 'c_mss:64'), (0.23564370893240047, 's_mss:87')]\n"
     ]
    },
    {
     "data": {
      "text/plain": [
       "[('c_mss_max:65', 5),\n",
       " ('s_port:16', 5),\n",
       " ('c_mss:64', 5),\n",
       " ('s_mss:87', 4),\n",
       " ('c_win_scl:61', 1)]"
      ]
     },
     "execution_count": 91,
     "metadata": {},
     "output_type": "execute_result"
    }
   ],
   "source": [
    "dom_sc(sc)"
   ]
  },
  {
   "cell_type": "code",
   "execution_count": 105,
   "metadata": {},
   "outputs": [
    {
     "data": {
      "text/plain": [
       "[('c_mss:64', 5),\n",
       " ('c_win_scl:61', 5),\n",
       " ('c_mss_max:65', 5),\n",
       " ('con_t:42', 3),\n",
       " ('c_cwin_max:70', 1),\n",
       " ('c_rst_cnt:4', 1)]"
      ]
     },
     "execution_count": 105,
     "metadata": {},
     "output_type": "execute_result"
    }
   ],
   "source": [
    "dom_sc(sc_c)"
   ]
  },
  {
   "cell_type": "code",
   "execution_count": 101,
   "metadata": {},
   "outputs": [
    {
     "data": {
      "text/plain": [
       "[('s_port:16', 5),\n",
       " ('s_mss:87', 5),\n",
       " ('s_rst_cnt:18', 3),\n",
       " ('s_win_scl:84', 1),\n",
       " ('s_mss_min:89', 1)]"
      ]
     },
     "execution_count": 101,
     "metadata": {},
     "output_type": "execute_result"
    }
   ],
   "source": [
    "dom_sc(sc_s)"
   ]
  },
  {
   "cell_type": "code",
   "execution_count": 97,
   "metadata": {},
   "outputs": [
    {
     "data": {
      "text/plain": [
       "[('c_mss_max:65', 5),\n",
       " ('s_rst_cnt:18', 3),\n",
       " ('c_cwin_max:70', 2),\n",
       " ('s_syn_cnt:27', 2),\n",
       " ('s_mss_min:89', 2),\n",
       " ('con_t:42', 1)]"
      ]
     },
     "execution_count": 97,
     "metadata": {},
     "output_type": "execute_result"
    }
   ],
   "source": [
    "dom_sc(sc_rel)"
   ]
  },
  {
   "cell_type": "code",
   "execution_count": 108,
   "metadata": {},
   "outputs": [
    {
     "data": {
      "text/plain": [
       "[('c_cwin_max:70', 5),\n",
       " ('c_mss_max:65', 5),\n",
       " ('con_t:42', 5),\n",
       " ('c_win_min:68', 4),\n",
       " ('c_rst_cnt:4', 1)]"
      ]
     },
     "execution_count": 108,
     "metadata": {},
     "output_type": "execute_result"
    }
   ],
   "source": [
    "dom_sc(sc_c_rel)"
   ]
  },
  {
   "cell_type": "code",
   "execution_count": 109,
   "metadata": {},
   "outputs": [
    {
     "data": {
      "text/plain": [
       "[('s_cwin_min:94', 5),\n",
       " ('durat:31', 5),\n",
       " ('s_sack_cnt:86', 5),\n",
       " ('s_win_max:90', 4),\n",
       " ('s_rst_cnt:18', 1)]"
      ]
     },
     "execution_count": 109,
     "metadata": {},
     "output_type": "execute_result"
    }
   ],
   "source": [
    "dom_sc(sc_s_rel)"
   ]
  },
  {
   "cell_type": "code",
   "execution_count": 121,
   "metadata": {},
   "outputs": [
    {
     "data": {
      "text/plain": [
       "[('c_mss:64', 4),\n",
       " ('c_mss_max:65', 4),\n",
       " ('s_mss:87', 3),\n",
       " ('c_win_scl:61', 2),\n",
       " ('s_rst_cnt:18', 2)]"
      ]
     },
     "execution_count": 121,
     "metadata": {},
     "output_type": "execute_result"
    }
   ],
   "source": [
    "dom_sc(sc_no_port)"
   ]
  },
  {
   "cell_type": "code",
   "execution_count": 111,
   "metadata": {},
   "outputs": [
    {
     "data": {
      "text/plain": [
       "[('c_mss_max:65', 5),\n",
       " ('c_cwin_max:70', 3),\n",
       " ('s_mss_min:89', 3),\n",
       " ('c_win_min:68', 2),\n",
       " ('s_pkts_dup:99', 1),\n",
       " ('s_win_max:90', 1)]"
      ]
     },
     "execution_count": 111,
     "metadata": {},
     "output_type": "execute_result"
    }
   ],
   "source": [
    "dom_sc(sc_Mariam)"
   ]
  },
  {
   "cell_type": "code",
   "execution_count": 116,
   "metadata": {},
   "outputs": [
    {
     "data": {
      "text/plain": [
       "[('s_mss_min:89', 3),\n",
       " ('s_pkts_dup:99', 2),\n",
       " ('s_cwin_min:94', 2),\n",
       " ('s_mss_max:88', 1),\n",
       " ('s_win_min:91', 1),\n",
       " ('s_cwin_max:93', 1)]"
      ]
     },
     "execution_count": 116,
     "metadata": {},
     "output_type": "execute_result"
    }
   ],
   "source": [
    "dom_sc(sc_Mariam_s)"
   ]
  },
  {
   "cell_type": "code",
   "execution_count": 105,
   "metadata": {},
   "outputs": [
    {
     "data": {
      "text/plain": [
       "[('c_cwin_max:70', 5),\n",
       " ('c_mss_max:65', 5),\n",
       " ('c_win_min:68', 5),\n",
       " ('c_rtt_avg:45', 4),\n",
       " ('c_cwin_min:71', 1)]"
      ]
     },
     "execution_count": 105,
     "metadata": {},
     "output_type": "execute_result"
    }
   ],
   "source": [
    "dom_sc(sc_Mariam_c)"
   ]
  },
  {
   "cell_type": "code",
   "execution_count": null,
   "metadata": {},
   "outputs": [],
   "source": []
  }
 ],
 "metadata": {
  "kernelspec": {
   "display_name": "Python 2",
   "language": "python",
   "name": "python2"
  },
  "language_info": {
   "codemirror_mode": {
    "name": "ipython",
    "version": 2
   },
   "file_extension": ".py",
   "mimetype": "text/x-python",
   "name": "python",
   "nbconvert_exporter": "python",
   "pygments_lexer": "ipython2",
   "version": "2.7.15"
  }
 },
 "nbformat": 4,
 "nbformat_minor": 2
}
